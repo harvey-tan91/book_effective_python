{
 "metadata": {
  "language_info": {
   "codemirror_mode": {
    "name": "ipython",
    "version": 3
   },
   "file_extension": ".py",
   "mimetype": "text/x-python",
   "name": "python",
   "nbconvert_exporter": "python",
   "pygments_lexer": "ipython3",
   "version": "3.8.3-final"
  },
  "orig_nbformat": 2,
  "kernelspec": {
   "name": "python3",
   "display_name": "Python 3",
   "language": "python"
  }
 },
 "nbformat": 4,
 "nbformat_minor": 2,
 "cells": [
  {
   "source": [
    "# Item 27: Use comprehension instead of map and filter"
   ],
   "cell_type": "markdown",
   "metadata": {}
  },
  {
   "cell_type": "code",
   "execution_count": 1,
   "metadata": {},
   "outputs": [
    {
     "output_type": "execute_result",
     "data": {
      "text/plain": [
       "[-1, -2, -3, -4, -5, -6, -7, -8, -9]"
      ]
     },
     "metadata": {},
     "execution_count": 1
    }
   ],
   "source": [
    "lst = [1,2,3,4,5,6,7,8,9]\n",
    "new_lst = []\n",
    "\n",
    "for element in lst:\n",
    "    new_lst.append(element*-1)\n",
    "new_lst"
   ]
  },
  {
   "cell_type": "code",
   "execution_count": 2,
   "metadata": {},
   "outputs": [
    {
     "output_type": "execute_result",
     "data": {
      "text/plain": [
       "[-1, -2, -3, -4, -5, -6, -7, -8, -9]"
      ]
     },
     "metadata": {},
     "execution_count": 2
    }
   ],
   "source": [
    "# list comprehension\n",
    "[i*-1 for i in lst]"
   ]
  },
  {
   "cell_type": "code",
   "execution_count": 4,
   "metadata": {},
   "outputs": [
    {
     "output_type": "execute_result",
     "data": {
      "text/plain": [
       "[-1, -2, -3, -4]"
      ]
     },
     "metadata": {},
     "execution_count": 4
    }
   ],
   "source": [
    "# we can also apply filter on items as well\n",
    "[i*-1 for i in lst if i < 5]"
   ]
  },
  {
   "cell_type": "code",
   "execution_count": 5,
   "metadata": {},
   "outputs": [
    {
     "output_type": "execute_result",
     "data": {
      "text/plain": [
       "[-1, -2, -3, -4, 5, 6, 7, 8, 9]"
      ]
     },
     "metadata": {},
     "execution_count": 5
    }
   ],
   "source": [
    "# conditional expression in list comprehension\n",
    "[i*-1 if i < 5 else i for i in lst]"
   ]
  },
  {
   "cell_type": "code",
   "execution_count": 12,
   "metadata": {},
   "outputs": [
    {
     "output_type": "execute_result",
     "data": {
      "text/plain": [
       "{'apple': 'redred', 'pear': 'greengreen'}"
      ]
     },
     "metadata": {},
     "execution_count": 12
    }
   ],
   "source": [
    "# dictionary comprehension\n",
    "d = {'apple': 'red', 'pear': 'green'}\n",
    "{key:value*2 for key,value in d.items()}"
   ]
  },
  {
   "cell_type": "code",
   "execution_count": 17,
   "metadata": {},
   "outputs": [
    {
     "output_type": "execute_result",
     "data": {
      "text/plain": [
       "{-5, -2, -1}"
      ]
     },
     "metadata": {},
     "execution_count": 17
    }
   ],
   "source": [
    "# set comprehension\n",
    "s = {1,5,2,2,2,5}\n",
    "{i*-1 for i in s}"
   ]
  },
  {
   "source": [
    "# Item 28: Avoid more than 2 control subexpression in comprehension"
   ],
   "cell_type": "markdown",
   "metadata": {}
  },
  {
   "cell_type": "code",
   "execution_count": 18,
   "metadata": {},
   "outputs": [
    {
     "output_type": "execute_result",
     "data": {
      "text/plain": [
       "[1, 2, 3, 4, 5, 6, 7, 8, 9]"
      ]
     },
     "metadata": {},
     "execution_count": 18
    }
   ],
   "source": [
    "matrix = [[1,2,3], [4,5,6], [7,8,9]]\n",
    "\n",
    "flatten = [x for row in matrix for x in row] # this flatten the matrix\n",
    "flatten"
   ]
  },
  {
   "cell_type": "code",
   "execution_count": 19,
   "metadata": {},
   "outputs": [
    {
     "output_type": "execute_result",
     "data": {
      "text/plain": [
       "[[1, 2, 3, 1, 2, 3], [4, 5, 6, 4, 5, 6], [7, 8, 9, 7, 8, 9]]"
      ]
     },
     "metadata": {},
     "execution_count": 19
    }
   ],
   "source": [
    "[i*2 for i in matrix] # i refer to each list in the LOL"
   ]
  },
  {
   "cell_type": "code",
   "execution_count": 20,
   "metadata": {},
   "outputs": [
    {
     "output_type": "execute_result",
     "data": {
      "text/plain": [
       "[[2, 4, 6], [8, 10, 12], [14, 16, 18]]"
      ]
     },
     "metadata": {},
     "execution_count": 20
    }
   ],
   "source": [
    "[[i*2 for i in lst] for lst in matrix] # this dealth with the elements in each list "
   ]
  },
  {
   "cell_type": "code",
   "execution_count": 24,
   "metadata": {},
   "outputs": [
    {
     "output_type": "stream",
     "name": "stdout",
     "text": [
      "[1, 2, 3, 4, 5, 6, 7, 8, 9, 10]\n\n[6, 8, 10]\n\n[6, 8, 10]\n"
     ]
    }
   ],
   "source": [
    "# we can apply multiple conditions for the filtering as well\n",
    "a = [i for i in range(1,11)]\n",
    "print(a)\n",
    "print()\n",
    "\n",
    "b = [i for i in a if i > 5 if i%2==0]\n",
    "print(b)\n",
    "print()\n",
    "\n",
    "c = [i for i in a if i > 5 and i%2==0]\n",
    "print(c)"
   ]
  },
  {
   "cell_type": "code",
   "execution_count": 25,
   "metadata": {},
   "outputs": [
    {
     "output_type": "execute_result",
     "data": {
      "text/plain": [
       "[[6], [9]]"
      ]
     },
     "metadata": {},
     "execution_count": 25
    }
   ],
   "source": [
    "matrix = [[1,2,3], [4,5,6], [7,8,9]]\n",
    "\n",
    "filtered = [\n",
    "            [i for i in row if i%3==0] for row in matrix if sum(row) > 10\n",
    "            ] \n",
    "\n",
    "filtered"
   ]
  },
  {
   "source": [
    "# Item 29:  Avoid repeated work in comprehension using assignment expression"
   ],
   "cell_type": "markdown",
   "metadata": {}
  },
  {
   "cell_type": "code",
   "execution_count": 32,
   "metadata": {},
   "outputs": [
    {
     "output_type": "execute_result",
     "data": {
      "text/plain": [
       "{'nails': 15, 'screws': 4, 'wingnuts': 1}"
      ]
     },
     "metadata": {},
     "execution_count": 32
    }
   ],
   "source": [
    "# we need to verify:\n",
    "# 1) we have sufficient stock\n",
    "# 2) it meets the minimum threshold in shipping of min 8 items \n",
    "\n",
    "\n",
    "stock = {\n",
    "        'nails': 125,\n",
    "        'screws': 35,\n",
    "        'wingnuts': 8,\n",
    "        'washers': 24\n",
    "        }\n",
    "\n",
    "orders = ['nails', 'screws', 'wingnuts']\n",
    "\n",
    "def get_batches(count, size):\n",
    "    return count // size\n",
    "\n",
    "result = {}\n",
    "for order in orders:\n",
    "    count = stock.get(order, 0)\n",
    "    batch = get_batches(count, 8)\n",
    "\n",
    "    if batch:\n",
    "        result[order] = batch\n",
    "\n",
    "result"
   ]
  },
  {
   "cell_type": "code",
   "execution_count": 39,
   "metadata": {},
   "outputs": [
    {
     "output_type": "execute_result",
     "data": {
      "text/plain": [
       "{'nails': 15, 'screws': 4, 'wingnuts': 1}"
      ]
     },
     "metadata": {},
     "execution_count": 39
    }
   ],
   "source": [
    "# we can use a dictionary comprehension to achieve the same result as the above\n",
    "orders = ['nails', 'screws', 'wingnuts', 'xxx']\n",
    "\n",
    "{order: get_batches(stock.get(order,0),8) for order in orders if \n",
    "get_batches(stock.get(order,0),8)\n",
    "}"
   ]
  },
  {
   "source": [
    "# Item 31: Consider Generators instead of returning Lists"
   ],
   "cell_type": "markdown",
   "metadata": {}
  },
  {
   "cell_type": "code",
   "execution_count": 4,
   "metadata": {},
   "outputs": [
    {
     "output_type": "execute_result",
     "data": {
      "text/plain": [
       "[0, 5, 11, 15, 21, 27]"
      ]
     },
     "metadata": {},
     "execution_count": 4
    }
   ],
   "source": [
    "def index_words(text):\n",
    "    result = []\n",
    "    if text:\n",
    "        result.append(0)\n",
    "\n",
    "    for index, letter in enumerate(text):\n",
    "        if letter == ' ':\n",
    "            result.append(index + 1)\n",
    "    return result\n",
    "\n",
    "address = 'Four score and seven years ago..'\n",
    "result = index_words(address)\n",
    "result"
   ]
  },
  {
   "source": [
    "** Notes **\n",
    "* The problems with the above function are:\n",
    "* 1) the code is dense amd noisy\n",
    "* 2) it requires all results to be stored in the list before being returned\n",
    "* 2a) For huge inputs, this can cause a program to run out of memory and crash "
   ],
   "cell_type": "markdown",
   "metadata": {}
  },
  {
   "cell_type": "code",
   "execution_count": 16,
   "metadata": {},
   "outputs": [],
   "source": [
    "def index_words_iter(text):\n",
    "    if text:\n",
    "        yield 0\n",
    "    for index, letter in enumerate(text, 1):\n",
    "        if letter == ' ':\n",
    "            yield index\n",
    "\n",
    "result_iter = index_words_iter(address) # this return a generator and assign to the said variable "
   ]
  },
  {
   "cell_type": "code",
   "execution_count": 18,
   "metadata": {},
   "outputs": [
    {
     "output_type": "execute_result",
     "data": {
      "text/plain": [
       "5"
      ]
     },
     "metadata": {},
     "execution_count": 18
    }
   ],
   "source": [
    "next(result_iter)"
   ]
  },
  {
   "cell_type": "code",
   "execution_count": 19,
   "metadata": {},
   "outputs": [
    {
     "output_type": "execute_result",
     "data": {
      "text/plain": [
       "[11, 15, 21, 27]"
      ]
     },
     "metadata": {},
     "execution_count": 19
    }
   ],
   "source": [
    "list(result_iter) # this continues from the above"
   ]
  },
  {
   "cell_type": "code",
   "execution_count": null,
   "metadata": {},
   "outputs": [],
   "source": []
  },
  {
   "cell_type": "code",
   "execution_count": null,
   "metadata": {},
   "outputs": [],
   "source": []
  },
  {
   "cell_type": "code",
   "execution_count": null,
   "metadata": {},
   "outputs": [],
   "source": []
  },
  {
   "cell_type": "code",
   "execution_count": null,
   "metadata": {},
   "outputs": [],
   "source": []
  }
 ]
}