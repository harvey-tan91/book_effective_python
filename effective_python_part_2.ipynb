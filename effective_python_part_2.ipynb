{
 "metadata": {
  "language_info": {
   "codemirror_mode": {
    "name": "ipython",
    "version": 3
   },
   "file_extension": ".py",
   "mimetype": "text/x-python",
   "name": "python",
   "nbconvert_exporter": "python",
   "pygments_lexer": "ipython3",
   "version": "3.8.3-final"
  },
  "orig_nbformat": 2,
  "kernelspec": {
   "name": "python3",
   "display_name": "Python 3.8.3 64-bit (conda)",
   "metadata": {
    "interpreter": {
     "hash": "eb8f35743f9001c30e3bbd777425f7e52a39aada76c3a9d7849db12bd416f99c"
    }
   }
  }
 },
 "nbformat": 4,
 "nbformat_minor": 2,
 "cells": [
  {
   "cell_type": "code",
   "execution_count": 1,
   "metadata": {},
   "outputs": [],
   "source": [
    "import numpy as np"
   ]
  },
  {
   "source": [
    "# Item 19: Never unpack more than 3 variables when functions return multiple values\n",
    "* Unpacking into 4 or more variables is error prone and should be avoided\n",
    "* Use catch-all starred expression to return multiple values from a function"
   ],
   "cell_type": "markdown",
   "metadata": {}
  },
  {
   "cell_type": "code",
   "execution_count": 2,
   "metadata": {},
   "outputs": [],
   "source": [
    "def get_stats(list_of_numbers):\n",
    "    minimum = min(list_of_numbers)\n",
    "    maximum = max(list_of_numbers)\n",
    "\n",
    "    return minimum, maximum\n",
    "\n",
    "num = list(np.random.randint(0,100,10))"
   ]
  },
  {
   "cell_type": "code",
   "execution_count": 7,
   "metadata": {},
   "outputs": [
    {
     "output_type": "execute_result",
     "data": {
      "text/plain": [
       "[7, 31, 26, 76, 53, 25, 49, 32, 60, 43]"
      ]
     },
     "metadata": {},
     "execution_count": 7
    }
   ],
   "source": [
    "num"
   ]
  },
  {
   "cell_type": "code",
   "execution_count": 5,
   "metadata": {},
   "outputs": [
    {
     "output_type": "stream",
     "name": "stdout",
     "text": [
      "7\n76\n"
     ]
    }
   ],
   "source": [
    "my_min, my_max = get_stats(num)\n",
    "print(my_min)\n",
    "print(my_max)"
   ]
  },
  {
   "cell_type": "code",
   "execution_count": 19,
   "metadata": {},
   "outputs": [],
   "source": [
    "def get_avg_ratio(list_of_numbers):\n",
    "    avg = sum(list_of_numbers) / len(list_of_numbers)\n",
    "    scaled = [number / avg for number in list_of_numbers]\n",
    "    scaled.sort(reverse=True)\n",
    "    scaled = [round(i*100,1) for i in scaled]\n",
    "    return scaled"
   ]
  },
  {
   "cell_type": "code",
   "execution_count": 22,
   "metadata": {},
   "outputs": [
    {
     "output_type": "stream",
     "name": "stdout",
     "text": [
      "189.1\n\n[149.3, 131.8, 121.9, 107.0, 79.6, 77.1, 64.7, 62.2]\n\n17.4\n"
     ]
    }
   ],
   "source": [
    "longest, *middle, smallest = get_avg_ratio(num)\n",
    "print(longest)\n",
    "print()\n",
    "print(middle)\n",
    "print()\n",
    "print(smallest)"
   ]
  },
  {
   "cell_type": "code",
   "execution_count": null,
   "metadata": {},
   "outputs": [],
   "source": []
  },
  {
   "cell_type": "code",
   "execution_count": null,
   "metadata": {},
   "outputs": [],
   "source": []
  },
  {
   "cell_type": "code",
   "execution_count": null,
   "metadata": {},
   "outputs": [],
   "source": []
  },
  {
   "cell_type": "code",
   "execution_count": null,
   "metadata": {},
   "outputs": [],
   "source": []
  }
 ]
}