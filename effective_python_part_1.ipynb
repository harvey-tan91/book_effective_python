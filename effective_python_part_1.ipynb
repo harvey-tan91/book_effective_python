{
 "cells": [
  {
   "cell_type": "code",
   "execution_count": 12,
   "metadata": {},
   "outputs": [],
   "source": [
    "import numpy as np"
   ]
  },
  {
   "source": [
    "# Item 2: Whitespace, naming, expressions and imports\n",
    "\n",
    "* In a file, functions and classes should be seperated by two blank lines\n",
    "* In a class, methods should be seperated by one blank line\n",
    "* Imports statement should follow this order -> 1) standard library 2) third-party modules 3) own modules\n",
    "* Lines should be 79 characters in lenght or less "
   ],
   "cell_type": "markdown",
   "metadata": {
    "tags": []
   }
  },
  {
   "cell_type": "code",
   "execution_count": 1,
   "metadata": {},
   "outputs": [],
   "source": [
    "# put NO space between the colon and the key and, ONE space between the colon and the corresponding value\n",
    "# put one space before and after the \"=\" operator in a variable assignment\n",
    "d = {'name': 'harvey'}"
   ]
  },
  {
   "source": [
    "## Example: inline negations "
   ],
   "cell_type": "markdown",
   "metadata": {}
  },
  {
   "cell_type": "code",
   "execution_count": 2,
   "metadata": {
    "tags": []
   },
   "outputs": [
    {
     "output_type": "stream",
     "name": "stdout",
     "text": [
      "True\nTrue\n"
     ]
    }
   ],
   "source": [
    "# Use inline negations\n",
    "a, b = 1, '1'\n",
    "print(True) if a is not b else print(False) # This is inline negations and is the recommended method\n",
    "print(True) if not a is b else print(False) # this is not recommended, this is negation of positive expression"
   ]
  },
  {
   "source": [
    "## Example: checking empty stuff"
   ],
   "cell_type": "markdown",
   "metadata": {}
  },
  {
   "cell_type": "code",
   "execution_count": 3,
   "metadata": {
    "tags": []
   },
   "outputs": [
    {
     "output_type": "stream",
     "name": "stdout",
     "text": [
      "True\nTrue\nFalse\n"
     ]
    }
   ],
   "source": [
    "# do not use lst == [] to check for empty list/containers\n",
    "lst = [1,2,3]\n",
    "em = []\n",
    "print(True) if lst != [] else print(False) # ---> this is NOT preferred\n",
    "print(True) if lst else print(False) # if some_list ---> this statement is implicitly True and refer to non-empty # this method is preferred\n",
    "print(True) if em else print(False)"
   ]
  },
  {
   "source": [
    "# Item 3: Bytes vs Str\n",
    "\n",
    "* There are two types of data that represent sequence of character data: 1) str 2) bytes\n",
    "* Instances of bytes contain raw, unisgned 8-bit value and often displayed in the ASCII encoding\n",
    "* Instances of str contain Unicode code points that represent textual character from human language\n",
    "* To convert binary data to Unicode data, we call the decode method \n",
    "* To convert Unicode to binary data, we call the encode method\n",
    "* The core of our python program should use the str type containing Unicode data"
   ],
   "cell_type": "markdown",
   "metadata": {}
  },
  {
   "cell_type": "code",
   "execution_count": 4,
   "metadata": {},
   "outputs": [
    {
     "output_type": "stream",
     "name": "stdout",
     "text": [
      "b'hello'\n[104, 101, 108, 108, 111]\n"
     ]
    }
   ],
   "source": [
    "a = b'h\\x65llo' \n",
    "# putting a \"b\" in front of the text character creates a byte instance \n",
    "# \\x is a escape key \n",
    "# \\x has to be followed by two hex digits\n",
    "print(a)\n",
    "print(list(a))"
   ]
  },
  {
   "cell_type": "code",
   "execution_count": 5,
   "metadata": {},
   "outputs": [
    {
     "output_type": "execute_result",
     "data": {
      "text/plain": [
       "'hello'"
      ]
     },
     "metadata": {},
     "execution_count": 5
    }
   ],
   "source": [
    "# the decode method of a byte class return the object in string type\n",
    "a.decode('utf-8') "
   ]
  },
  {
   "cell_type": "code",
   "execution_count": 6,
   "metadata": {},
   "outputs": [
    {
     "output_type": "stream",
     "name": "stdout",
     "text": [
      "hello\n['h', 'e', 'l', 'l', 'o']\n"
     ]
    }
   ],
   "source": [
    "# remember that instances of str contain unicode code point that represent textual character\n",
    "a = 'h\\x65llo' # this is a string \n",
    "print(a)\n",
    "print(list(a))"
   ]
  },
  {
   "cell_type": "code",
   "execution_count": 7,
   "metadata": {},
   "outputs": [
    {
     "output_type": "stream",
     "name": "stdout",
     "text": [
      "<class 'bytes'>\nb'hello'\n"
     ]
    }
   ],
   "source": [
    "# the encode method of a str class return the object in byte type \n",
    "a_byte = a.encode('utf-8') \n",
    "print(type(a_byte))\n",
    "print(a_byte)"
   ]
  },
  {
   "cell_type": "code",
   "execution_count": 8,
   "metadata": {},
   "outputs": [
    {
     "output_type": "stream",
     "name": "stdout",
     "text": [
      "b'onetwo'\nonetwo\n\nTrue\nFalse\n"
     ]
    }
   ],
   "source": [
    "# Instances of bytes and str are not compatible with each other\n",
    "# Can add instances of the same class\n",
    "print(b'one' + b'two')\n",
    "print('one' + 'two')\n",
    "print()\n",
    "# Instances of the same class can be compared to each other\n",
    "print(b'two' > b'one')\n",
    "print('one' > 'two')"
   ]
  },
  {
   "cell_type": "code",
   "execution_count": 9,
   "metadata": {},
   "outputs": [
    {
     "output_type": "error",
     "ename": "TypeError",
     "evalue": "can't concat str to bytes",
     "traceback": [
      "\u001b[1;31m---------------------------------------------------------------------------\u001b[0m",
      "\u001b[1;31mTypeError\u001b[0m                                 Traceback (most recent call last)",
      "\u001b[1;32m<ipython-input-9-483f3a84d468>\u001b[0m in \u001b[0;36m<module>\u001b[1;34m\u001b[0m\n\u001b[0;32m      1\u001b[0m \u001b[1;31m# But cannot add instances of different class\u001b[0m\u001b[1;33m\u001b[0m\u001b[1;33m\u001b[0m\u001b[1;33m\u001b[0m\u001b[0m\n\u001b[1;32m----> 2\u001b[1;33m \u001b[1;34mb'one'\u001b[0m \u001b[1;33m+\u001b[0m \u001b[1;34m'two'\u001b[0m\u001b[1;33m\u001b[0m\u001b[1;33m\u001b[0m\u001b[0m\n\u001b[0m",
      "\u001b[1;31mTypeError\u001b[0m: can't concat str to bytes"
     ]
    }
   ],
   "source": [
    "# But cannot add instances of different class\n",
    "b'one' + 'two'"
   ]
  },
  {
   "cell_type": "code",
   "execution_count": 10,
   "metadata": {},
   "outputs": [
    {
     "output_type": "error",
     "ename": "TypeError",
     "evalue": "'>' not supported between instances of 'bytes' and 'str'",
     "traceback": [
      "\u001b[1;31m---------------------------------------------------------------------------\u001b[0m",
      "\u001b[1;31mTypeError\u001b[0m                                 Traceback (most recent call last)",
      "\u001b[1;32m<ipython-input-10-79f56eb193db>\u001b[0m in \u001b[0;36m<module>\u001b[1;34m\u001b[0m\n\u001b[0;32m      1\u001b[0m \u001b[1;31m# But cannot compare instances of different class\u001b[0m\u001b[1;33m\u001b[0m\u001b[1;33m\u001b[0m\u001b[1;33m\u001b[0m\u001b[0m\n\u001b[1;32m----> 2\u001b[1;33m \u001b[1;34mb'one'\u001b[0m \u001b[1;33m>\u001b[0m \u001b[1;34m'two'\u001b[0m\u001b[1;33m\u001b[0m\u001b[1;33m\u001b[0m\u001b[0m\n\u001b[0m",
      "\u001b[1;31mTypeError\u001b[0m: '>' not supported between instances of 'bytes' and 'str'"
     ]
    }
   ],
   "source": [
    "# But cannot compare instances of different class\n",
    "b'one' > 'two'"
   ]
  },
  {
   "cell_type": "code",
   "execution_count": 11,
   "metadata": {},
   "outputs": [
    {
     "output_type": "execute_result",
     "data": {
      "text/plain": [
       "False"
      ]
     },
     "metadata": {},
     "execution_count": 11
    }
   ],
   "source": [
    "# Comparing the instances of bytes and str, even if they contain the same character will evaluate to False\n",
    "b'foo' == 'foo'"
   ]
  },
  {
   "source": [
    "# Item 6: Multiple assignment unpacking over indexing\n",
    "* Unpacking can be applied to any iterables, including many levels of iterables within iterables\n",
    "* Reduce visual noise and increase code clarity by using unpacking to avoid expicitly indexing into sequences"
   ],
   "cell_type": "markdown",
   "metadata": {}
  },
  {
   "cell_type": "code",
   "execution_count": 12,
   "metadata": {
    "tags": []
   },
   "outputs": [
    {
     "output_type": "stream",
     "name": "stdout",
     "text": [
      "red\nsingapore\napple\nthunderstorm\n"
     ]
    }
   ],
   "source": [
    "# Prefer multiple assignment unpacking over indexing\n",
    "# Unpacking typically require less lines of code and is visually less noisy\n",
    "\n",
    "item = ('red', 'singapore', 'apple', 'thunderstorm')\n",
    "\n",
    "# we are assigning the variable by indexing --> this is not preferred\n",
    "color = item[0]\n",
    "country = item[1]\n",
    "fruit = item[2]\n",
    "weather = item[-1]\n",
    "\n",
    "print(color)\n",
    "print(country)\n",
    "print(fruit)\n",
    "print(weather)"
   ]
  },
  {
   "cell_type": "code",
   "execution_count": 13,
   "metadata": {
    "tags": []
   },
   "outputs": [
    {
     "output_type": "stream",
     "name": "stdout",
     "text": [
      "red\nsingapore\napple\nthunderstorm\n"
     ]
    }
   ],
   "source": [
    "# this is the preferred method known as multiple assignment unpacking\n",
    "color, country, fruit, weather = item\n",
    "print(color)\n",
    "print(country)\n",
    "print(fruit)\n",
    "print(weather)"
   ]
  },
  {
   "cell_type": "code",
   "execution_count": 14,
   "metadata": {},
   "outputs": [],
   "source": [
    "#  we can use multiple assignment to swap values in a sorting algorithm\n",
    "some_list = ['zzzzz', 'yyyyyyy', 'aaaaa', 'fffff', 'bbbbb', 'qqqqqq']"
   ]
  },
  {
   "cell_type": "code",
   "execution_count": 15,
   "metadata": {
    "tags": []
   },
   "outputs": [
    {
     "output_type": "execute_result",
     "data": {
      "text/plain": [
       "['aaaaa', 'bbbbb', 'fffff', 'qqqqqq', 'yyyyyyy', 'zzzzz']"
      ]
     },
     "metadata": {},
     "execution_count": 15
    }
   ],
   "source": [
    "# this is an ascending sorting algorithmn\n",
    "def sorting_index(lst):\n",
    "    for _ in range(len(lst)):\n",
    "        for x in range(1, len(lst)):\n",
    "            if lst[x] < lst[x - 1]:\n",
    "                temp = lst[x] # this assign the current element to the variable - temp\n",
    "                lst[x] = lst[x - 1] # this assign the current element to the previous element\n",
    "                lst[x - 1] = temp\n",
    "    return lst\n",
    "\n",
    "sorting_index(some_list)"
   ]
  },
  {
   "cell_type": "code",
   "execution_count": 16,
   "metadata": {},
   "outputs": [
    {
     "output_type": "execute_result",
     "data": {
      "text/plain": [
       "['aaaaa', 'bbbbb', 'fffff', 'qqqqqq', 'yyyyyyy', 'zzzzz']"
      ]
     },
     "metadata": {},
     "execution_count": 16
    }
   ],
   "source": [
    "# this is an ascending sorting algorithmn\n",
    "def sorting_index_swap(lst):\n",
    "    for _ in range(len(lst)):\n",
    "        for x in range(1, len(lst)):\n",
    "            if lst[x] < lst[x-1]:\n",
    "                lst[x - 1], lst[x] = lst[x], lst[x - 1]\n",
    "    return lst\n",
    "\n",
    "sorting_index_swap(some_list)"
   ]
  },
  {
   "cell_type": "code",
   "execution_count": 17,
   "metadata": {},
   "outputs": [
    {
     "output_type": "stream",
     "name": "stdout",
     "text": [
      "#1 bacon has 100 calories\n#2 cheese has 200 calories\n#3 ham has 700 calories\n"
     ]
    }
   ],
   "source": [
    "# we can also use unpacking in a for-loop\n",
    "snacks = [('bacon', 100), ('cheese', 200), ('ham', 700)]\n",
    "\n",
    "for index, (food, calories) in enumerate(snacks, start= 1):\n",
    "    print(f'#{index} {food} has {calories} calories')"
   ]
  },
  {
   "source": [
    "# Item 7: Use enumerate over range"
   ],
   "cell_type": "markdown",
   "metadata": {}
  },
  {
   "cell_type": "code",
   "execution_count": 18,
   "metadata": {},
   "outputs": [
    {
     "output_type": "stream",
     "name": "stdout",
     "text": [
      "0 ('bacon', 100)\n1 ('cheese', 200)\n2 ('ham', 700)\n"
     ]
    }
   ],
   "source": [
    "snacks = [('bacon', 100), ('cheese', 200), ('ham', 700)]\n",
    "for num in range(len(snacks)):\n",
    "    print(f'{num} {snacks[num]}')"
   ]
  },
  {
   "cell_type": "code",
   "execution_count": 19,
   "metadata": {},
   "outputs": [
    {
     "output_type": "stream",
     "name": "stdout",
     "text": [
      "0 ('bacon', 100)\n1 ('cheese', 200)\n2 ('ham', 700)\n"
     ]
    }
   ],
   "source": [
    "# Preferred Method\n",
    "for index, element in enumerate(snacks,0):\n",
    "    print(index, element)"
   ]
  },
  {
   "source": [
    "# Item 8: Use zip to process iterators in parallel"
   ],
   "cell_type": "markdown",
   "metadata": {}
  },
  {
   "cell_type": "code",
   "execution_count": 20,
   "metadata": {},
   "outputs": [
    {
     "output_type": "execute_result",
     "data": {
      "text/plain": [
       "[('harvey', 6), ('lebronjames', 11), ('michael', 7)]"
      ]
     },
     "metadata": {},
     "execution_count": 20
    }
   ],
   "source": [
    "names = ['harvey', 'lebronjames', 'michael']\n",
    "len_names = [len(i.replace(' ','')) for i in names]\n",
    "\n",
    "combined = list(zip(names, len_names)) # zip can be used to combine element-wise information between iterables\n",
    "combined"
   ]
  },
  {
   "cell_type": "code",
   "execution_count": 21,
   "metadata": {},
   "outputs": [
    {
     "output_type": "stream",
     "name": "stdout",
     "text": [
      "('harvey', 6)\n('lebronjames', 11)\n('michael', 7)\n"
     ]
    }
   ],
   "source": [
    "for index, element in enumerate(combined):\n",
    "    print(element)"
   ]
  },
  {
   "cell_type": "code",
   "execution_count": 22,
   "metadata": {},
   "outputs": [
    {
     "output_type": "execute_result",
     "data": {
      "text/plain": [
       "[('harvey', 10), ('lebronjames', 20), ('michael', 30)]"
      ]
     },
     "metadata": {},
     "execution_count": 22
    }
   ],
   "source": [
    "# when the two iterables are of different len, zip will process up till the shortest list\n",
    "names = ['harvey', 'lebronjames', 'michael']\n",
    "age = [10,20,30,50,60]\n",
    "\n",
    "list(zip(names, age)) # 50 and 60 in age is left out"
   ]
  },
  {
   "cell_type": "code",
   "execution_count": 23,
   "metadata": {},
   "outputs": [
    {
     "output_type": "execute_result",
     "data": {
      "text/plain": [
       "[('harvey', 10), ('lebronjames', 20), ('michael', 30), (None, 50), (None, 60)]"
      ]
     },
     "metadata": {},
     "execution_count": 23
    }
   ],
   "source": [
    "# use the zip_longest function from the itertool module to zip iterables of different len\n",
    "# zip_longest will zip over the longest iterable\n",
    "\n",
    "import itertools \n",
    "list(itertools.zip_longest(names, age))"
   ]
  },
  {
   "source": [
    "# Item 9: Avoid else Block in a For and While loop"
   ],
   "cell_type": "markdown",
   "metadata": {}
  },
  {
   "cell_type": "code",
   "execution_count": 2,
   "metadata": {},
   "outputs": [
    {
     "output_type": "stream",
     "name": "stdout",
     "text": [
      "No\n"
     ]
    }
   ],
   "source": [
    "x = 'one'\n",
    "if x == 'two':\n",
    "    print('Yes')\n",
    "else: # else is used as a catch-all conditional logic\n",
    "    print('No')"
   ]
  },
  {
   "source": [
    "## Example: else block in try/except"
   ],
   "cell_type": "markdown",
   "metadata": {}
  },
  {
   "cell_type": "code",
   "execution_count": 10,
   "metadata": {},
   "outputs": [
    {
     "output_type": "stream",
     "name": "stdout",
     "text": [
      "2\nno error occurs\n"
     ]
    }
   ],
   "source": [
    "try:\n",
    "    print(1 + 1) \n",
    "except:\n",
    "    print('some error happen')\n",
    "else: # this will be executed if there is no exception \n",
    "    print('no error occurs') "
   ]
  },
  {
   "cell_type": "code",
   "execution_count": 11,
   "metadata": {},
   "outputs": [
    {
     "output_type": "stream",
     "name": "stdout",
     "text": [
      "some error happen\n"
     ]
    }
   ],
   "source": [
    "try:\n",
    "    print(1 + '1') \n",
    "except:\n",
    "    print('some error happen') # since the except clause is executed, it will not run the else clause\n",
    "else:\n",
    "    print('no error occurs') "
   ]
  },
  {
   "cell_type": "code",
   "execution_count": 20,
   "metadata": {},
   "outputs": [
    {
     "output_type": "stream",
     "name": "stdout",
     "text": [
      "some error happen\nfinally block\n"
     ]
    }
   ],
   "source": [
    "try:\n",
    "    print(1 + '1') \n",
    "except:\n",
    "    print('some error happen')\n",
    "finally: # this will always be executed regardless if there is an error\n",
    "    print('finally block') "
   ]
  },
  {
   "source": [
    "## Example: else block in for/else"
   ],
   "cell_type": "markdown",
   "metadata": {}
  },
  {
   "cell_type": "code",
   "execution_count": 21,
   "metadata": {},
   "outputs": [
    {
     "output_type": "stream",
     "name": "stdout",
     "text": [
      "0\n1\n2\n3\n4\ncompleted\n"
     ]
    }
   ],
   "source": [
    "for index in range(0,5):\n",
    "    print(index)\n",
    "else: # this will print if the for-loop is completed (NOT INTUITIVE) -- else imply something is not completed\n",
    "    print('completed')"
   ]
  },
  {
   "cell_type": "code",
   "execution_count": 23,
   "metadata": {},
   "outputs": [
    {
     "output_type": "stream",
     "name": "stdout",
     "text": [
      "else block\n"
     ]
    }
   ],
   "source": [
    "# else block run immediately if loop over an empty container \n",
    "for element in []:\n",
    "    print(element)\n",
    "else:\n",
    "    print('else block')"
   ]
  },
  {
   "cell_type": "code",
   "execution_count": 25,
   "metadata": {},
   "outputs": [
    {
     "output_type": "stream",
     "name": "stdout",
     "text": [
      "else block\n"
     ]
    }
   ],
   "source": [
    "# the same apply for a while loop if the condition is False\n",
    "while False:\n",
    "    print('this is False')\n",
    "else:\n",
    "    print('else block')"
   ]
  },
  {
   "source": [
    "# Item 10: Prevent repetition with assigment expressions \n",
    "\n",
    "* The assignment expression has two components:\n",
    "    * First is assigning a value to a variable \n",
    "    * Second is evaluating that variable to determine the flow control "
   ],
   "cell_type": "markdown",
   "metadata": {}
  },
  {
   "source": [
    "## Example: Walrus Operator"
   ],
   "cell_type": "markdown",
   "metadata": {}
  },
  {
   "cell_type": "code",
   "execution_count": 1,
   "metadata": {},
   "outputs": [],
   "source": [
    "sample_data = [ \n",
    "    {\"userId\": 1,  \"name\": \"rahul\", \"completed\": False}, \n",
    "    {\"userId\": 1, \"name\": \"rohit\", \"completed\": False}, \n",
    "    {\"userId\": 1,  \"name\": \"ram\", \"completed\": False}, \n",
    "    {\"userId\": 1,  \"name\": \"ravan\", \"completed\": True} \n",
    "] "
   ]
  },
  {
   "cell_type": "code",
   "execution_count": 6,
   "metadata": {},
   "outputs": [
    {
     "output_type": "stream",
     "name": "stdout",
     "text": [
      "Name Found: rahul\nName Found: rohit\nName Found: ram\nName Found: ravan\n"
     ]
    }
   ],
   "source": [
    "# Old method\n",
    "for entry in sample_data:\n",
    "    name = entry.get('name') # here we assign a value to a variable \n",
    "    if name: # we then evaluate the value\n",
    "        print(f'Name Found: {name}')"
   ]
  },
  {
   "cell_type": "code",
   "execution_count": 7,
   "metadata": {},
   "outputs": [
    {
     "output_type": "stream",
     "name": "stdout",
     "text": [
      "Name Found: rahul\nName Found: rohit\nName Found: ram\nName Found: ravan\n"
     ]
    }
   ],
   "source": [
    "# With Walrus Operator \n",
    "for entry in sample_data:\n",
    "    if name := entry['name']: # if this evaluate to True, then assign the expression's result to name [stated variable]\n",
    "        print(f'Name Found: {name}')"
   ]
  },
  {
   "source": [
    "## Example"
   ],
   "cell_type": "markdown",
   "metadata": {}
  },
  {
   "cell_type": "code",
   "execution_count": 10,
   "metadata": {},
   "outputs": [],
   "source": [
    "fresh_fruit = {'apple': 10, 'banana': 5, 'lemon': 5}\n",
    "\n",
    "def make_lemonade(count):\n",
    "    pass\n",
    "\n",
    "def out_of_stock(count):\n",
    "    pass"
   ]
  },
  {
   "cell_type": "code",
   "execution_count": 13,
   "metadata": {},
   "outputs": [],
   "source": [
    "# check if we have enough lemon to make lemonade\n",
    "count = fresh_fruit.get('lemon', 0)\n",
    "if count:\n",
    "    make_lemonade(count)\n",
    "else:\n",
    "    out_of_stock(count)"
   ]
  },
  {
   "cell_type": "code",
   "execution_count": 17,
   "metadata": {},
   "outputs": [],
   "source": [
    "# we can condense the above further\n",
    "if count:= fresh_fruit.get('lemon', 0):\n",
    "    make_lemonade(count)"
   ]
  },
  {
   "source": [
    "# Item 11: Slice Sequences"
   ],
   "cell_type": "markdown",
   "metadata": {}
  },
  {
   "cell_type": "code",
   "execution_count": 2,
   "metadata": {},
   "outputs": [
    {
     "output_type": "stream",
     "name": "stdout",
     "text": [
      "['apple', 'pear', 'orange']\n['apple', 'pear', 'orange']\n"
     ]
    }
   ],
   "source": [
    "# leave out the zero index to reduce visual noise\n",
    "lst = ['apple', 'pear', 'orange', 'pineapple']\n",
    "print(lst[0:3])\n",
    "print(lst[:3]) # this is the ideal option"
   ]
  },
  {
   "cell_type": "code",
   "execution_count": 7,
   "metadata": {},
   "outputs": [
    {
     "output_type": "stream",
     "name": "stdout",
     "text": [
      "2093464402176\n2093468850752\n"
     ]
    }
   ],
   "source": [
    "# slicing a list will result in a whole new list, i.e. with a different reference\n",
    "lst_new = lst[:]\n",
    "print(id(lst_new))\n",
    "print(id(lst))"
   ]
  },
  {
   "cell_type": "code",
   "execution_count": 11,
   "metadata": {},
   "outputs": [
    {
     "output_type": "stream",
     "name": "stdout",
     "text": [
      "2037671670144\n2037671670144\n\n['apple', 20, 30]\n['apple', 20, 30]\n"
     ]
    }
   ],
   "source": [
    "# assignment will lead to the same list reference\n",
    "a = [10,20,30]\n",
    "b = a\n",
    "\n",
    "print(id(a))\n",
    "print(id(b))\n",
    "print()\n",
    "\n",
    "a[0] = 'apple'\n",
    "print(a)\n",
    "print(b)"
   ]
  },
  {
   "cell_type": "code",
   "execution_count": 8,
   "metadata": {},
   "outputs": [
    {
     "output_type": "stream",
     "name": "stdout",
     "text": [
      "[0, 1, 2, 3, 4, 5, 6, 7, 8, 9]\n[0, 1, 1000, 1001, 1002, 1003, 1004, 1005, 1006, 1007, 1008, 1009, 4, 5, 6, 7, 8, 9]\n"
     ]
    }
   ],
   "source": [
    "# when use in assignments, slices replace the specified range in the original list\n",
    "# the lenght of slice do not need to be same as the assignment itself\n",
    "a = [i for i in range(10)]\n",
    "print(a)\n",
    "\n",
    "a[2:4] = [i for i in range(1000,1010)] # in this scenario, the list expanded becase the assigned list is longer than the specific slice\n",
    "print(a)"
   ]
  },
  {
   "cell_type": "code",
   "execution_count": 7,
   "metadata": {},
   "outputs": [
    {
     "output_type": "stream",
     "name": "stdout",
     "text": [
      "[0, 1, 2, 3, 4, 5, 6, 7, 8, 9, 10, 11, 12, 13, 14, 15, 16, 17, 18, 19, 20, 21, 22, 23, 24, 25, 26, 27, 28, 29, 30, 31, 32, 33, 34, 35, 36, 37, 38, 39, 40, 41, 42, 43, 44, 45, 46, 47, 48, 49, 50, 51, 52, 53, 54, 55, 56, 57, 58, 59, 60, 61, 62, 63, 64, 65, 66, 67, 68, 69, 70, 71, 72, 73, 74, 75, 76, 77, 78, 79, 80, 81, 82, 83, 84, 85, 86, 87, 88, 89, 90, 91, 92, 93, 94, 95, 96, 97, 98, 99]\n\n[0, 500, 501, 502, 503, 504, 95, 96, 97, 98, 99]\n"
     ]
    }
   ],
   "source": [
    "a = [i for i in range(100)]\n",
    "print(a)\n",
    "print()\n",
    "\n",
    "a[1:95] = [i for i in range(500,505)] # in this scenario, the list contract becasue the assigned list is shorter than the specific slice\n",
    "print(a)"
   ]
  },
  {
   "source": [
    "# Item 13: Prefer Catch-All Unpacking Over Slicing"
   ],
   "cell_type": "markdown",
   "metadata": {}
  },
  {
   "cell_type": "code",
   "execution_count": 21,
   "metadata": {},
   "outputs": [
    {
     "output_type": "execute_result",
     "data": {
      "text/plain": [
       "[24, 19, 10, 7, 5]"
      ]
     },
     "metadata": {},
     "execution_count": 21
    }
   ],
   "source": [
    "car_ages = list(np.random.randint(0,30,5))\n",
    "car_ages = sorted(car_ages, reverse=True)\n",
    "car_ages"
   ]
  },
  {
   "cell_type": "code",
   "execution_count": 22,
   "metadata": {},
   "outputs": [],
   "source": [
    "# this is not preferred as it is visually nosiy\n",
    "oldest = car_ages[0]\n",
    "second_oldest = car_ages[1]\n",
    "others = car_ages[2:]"
   ]
  },
  {
   "cell_type": "code",
   "execution_count": 27,
   "metadata": {},
   "outputs": [
    {
     "output_type": "stream",
     "name": "stdout",
     "text": [
      "24\n19\n[10, 7, 5]\n"
     ]
    }
   ],
   "source": [
    "# this is the preferred method\n",
    "# the starred expression (*others) is the catch-all variable\n",
    "oldest, second_oldest, *others = car_ages\n",
    "print(oldest)\n",
    "print(second_oldest)\n",
    "print(others)"
   ]
  },
  {
   "cell_type": "code",
   "execution_count": 29,
   "metadata": {},
   "outputs": [
    {
     "output_type": "stream",
     "name": "stdout",
     "text": [
      "24\n[19, 10, 7]\n5\n"
     ]
    }
   ],
   "source": [
    "oldest, *others, youngest = car_ages\n",
    "\n",
    "print(oldest)\n",
    "print(others)\n",
    "print(youngest)"
   ]
  },
  {
   "cell_type": "code",
   "execution_count": 30,
   "metadata": {},
   "outputs": [
    {
     "output_type": "error",
     "ename": "SyntaxError",
     "evalue": "starred assignment target must be in a list or tuple (<ipython-input-30-b8b570c8d38c>, line 2)",
     "traceback": [
      "\u001b[1;36m  File \u001b[1;32m\"<ipython-input-30-b8b570c8d38c>\"\u001b[1;36m, line \u001b[1;32m2\u001b[0m\n\u001b[1;33m    *others = car_ages\u001b[0m\n\u001b[1;37m    ^\u001b[0m\n\u001b[1;31mSyntaxError\u001b[0m\u001b[1;31m:\u001b[0m starred assignment target must be in a list or tuple\n"
     ]
    }
   ],
   "source": [
    "# starred expression cannot be used on its own\n",
    "*others = car_ages"
   ]
  },
  {
   "cell_type": "code",
   "execution_count": 31,
   "metadata": {},
   "outputs": [
    {
     "output_type": "error",
     "ename": "SyntaxError",
     "evalue": "two starred expressions in assignment (<ipython-input-31-45d00cbe0c63>, line 2)",
     "traceback": [
      "\u001b[1;36m  File \u001b[1;32m\"<ipython-input-31-45d00cbe0c63>\"\u001b[1;36m, line \u001b[1;32m2\u001b[0m\n\u001b[1;33m    oldest, *others, *others2, youngest = car_ages\u001b[0m\n\u001b[1;37m    ^\u001b[0m\n\u001b[1;31mSyntaxError\u001b[0m\u001b[1;31m:\u001b[0m two starred expressions in assignment\n"
     ]
    }
   ],
   "source": [
    "# two starred expression cannot exist in the same level \n",
    "oldest, *others, *others2, youngest = car_ages"
   ]
  },
  {
   "cell_type": "code",
   "execution_count": 32,
   "metadata": {},
   "outputs": [
    {
     "output_type": "stream",
     "name": "stdout",
     "text": [
      "[]\n"
     ]
    }
   ],
   "source": [
    "# starred expression will turned into a empty list when there is no leftover to convert\n",
    "a = ['apple', 'orange']\n",
    "first, second, *other = a\n",
    "print(other)"
   ]
  },
  {
   "source": [
    "Notes:\n",
    "* Starred expression always turned into a list\n",
    "* Hence unpacking an iterator also risk the potential of using up all of the memory on the computer and causing the program to crash\n",
    "* Use starred expression if we believe that the result can fitted into memory  "
   ],
   "cell_type": "markdown",
   "metadata": {}
  },
  {
   "cell_type": "code",
   "execution_count": null,
   "metadata": {},
   "outputs": [],
   "source": []
  },
  {
   "cell_type": "code",
   "execution_count": null,
   "metadata": {},
   "outputs": [],
   "source": []
  },
  {
   "cell_type": "code",
   "execution_count": null,
   "metadata": {},
   "outputs": [],
   "source": []
  }
 ],
 "metadata": {
  "kernelspec": {
   "name": "python3",
   "display_name": "Python 3.8.3 64-bit (conda)",
   "metadata": {
    "interpreter": {
     "hash": "eb8f35743f9001c30e3bbd777425f7e52a39aada76c3a9d7849db12bd416f99c"
    }
   }
  },
  "language_info": {
   "codemirror_mode": {
    "name": "ipython",
    "version": 3
   },
   "file_extension": ".py",
   "mimetype": "text/x-python",
   "name": "python",
   "nbconvert_exporter": "python",
   "pygments_lexer": "ipython3",
   "version": "3.8.3-final"
  }
 },
 "nbformat": 4,
 "nbformat_minor": 2
}